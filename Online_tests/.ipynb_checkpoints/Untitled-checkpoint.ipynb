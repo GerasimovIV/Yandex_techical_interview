{
 "cells": [
  {
   "cell_type": "code",
   "execution_count": 26,
   "metadata": {},
   "outputs": [
    {
     "name": "stdout",
     "output_type": "stream",
     "text": [
      "ab\n",
      "ababababduihsna\n",
      "9\n"
     ]
    }
   ],
   "source": [
    "# A. Камни и украшения\n",
    "j = list(str(input()))\n",
    "s = list(str(input()))\n",
    " \n",
    "result = 0\n",
    "for ch in s:\n",
    "    if ch in j:\n",
    "        result += 1\n",
    " \n",
    "print(result)"
   ]
  },
  {
   "cell_type": "code",
   "execution_count": 30,
   "metadata": {},
   "outputs": [
    {
     "name": "stdout",
     "output_type": "stream",
     "text": [
      "5\n",
      "1\n",
      "0\n",
      "1\n",
      "0\n",
      "1\n",
      "1\n"
     ]
    }
   ],
   "source": [
    "# B. Последовательно идущие единицы\n",
    "n = int(input())\n",
    "k = 0\n",
    "max_k = 0\n",
    "for _ in range(n):\n",
    "    chislo = int(input())\n",
    "    if chislo == 1:\n",
    "        k += 1\n",
    "        if max_k < k:\n",
    "            max_k = k\n",
    "    else:\n",
    "        k = 0\n",
    "        \n",
    "print(max_k)"
   ]
  },
  {
   "cell_type": "code",
   "execution_count": 49,
   "metadata": {},
   "outputs": [],
   "source": [
    "# C. Удаление дубликатов\n",
    "file_read = open('input.txt', 'r')\n",
    "file_write = open('output.txt', 'w')\n",
    "n = int(file_read.readline())\n",
    "if n > 0:\n",
    "    prev = int(file_read.readline())\n",
    "    file_write.write(str(prev) + '\\n')\n",
    "    for _ in range(n-1):\n",
    "        chislo = int(file_read.readline())\n",
    "        if chislo != prev:\n",
    "            file_write.write(str(chislo) + '\\n')\n",
    "        prev = chislo\n",
    "\n",
    "file_read.close()\n",
    "file_write.close()"
   ]
  },
  {
   "cell_type": "code",
   "execution_count": 81,
   "metadata": {},
   "outputs": [],
   "source": [
    "# D. Генерация скобочных последовательностей\n",
    "file_read = open('input.txt', 'r')\n",
    "file_write = open('output.txt', 'w')\n",
    "\n",
    "def print_skobki(n, mas):\n",
    "    file_write.write(mas + '\\n')\n",
    "\n",
    "def check(mas, n):\n",
    "    couter = 0\n",
    "    for i in range(2 * n):\n",
    "        if mas[i] == '(':\n",
    "            couter += 1\n",
    "        if mas[i] == ')':\n",
    "            couter -= 1\n",
    "        if couter < 0:\n",
    "            return False\n",
    "    if couter == 0:\n",
    "        return True\n",
    "    else:\n",
    "        return False\n",
    "    \n",
    "def generation(n, skobki_open, skobki_close, mas):\n",
    "    if skobki_open + skobki_close == 2 * n:\n",
    "        if (check(mas, n) == True):\n",
    "            print_skobki(2 * n, mas)\n",
    "        return\n",
    "    if skobki_open < n:\n",
    "        generation(n, skobki_open + 1, skobki_close, mas + '(')\n",
    "    if skobki_close < n:\n",
    "        generation(n, skobki_open, skobki_close  + 1, mas + ')')\n",
    "    \n",
    "n = int(file_read.readline())\n",
    "\n",
    "generation(n, 0, 0, '')\n",
    "\n",
    "file_read.close()\n",
    "file_write.close()"
   ]
  },
  {
   "cell_type": "code",
   "execution_count": 55,
   "metadata": {},
   "outputs": [
    {
     "name": "stdout",
     "output_type": "stream",
     "text": [
      "qwerty\n",
      "ytqrwe\n",
      "1\n"
     ]
    }
   ],
   "source": [
    "# E. Анаграммы\n",
    "# сортироовка слиянием\n",
    "\n",
    "def mergeSort(alist):\n",
    "    #print(\"Splitting \",alist)\n",
    "    if len(alist)>1:\n",
    "        mid = len(alist)//2\n",
    "        lefthalf = alist[:mid]\n",
    "        righthalf = alist[mid:]\n",
    "\n",
    "        mergeSort(lefthalf)\n",
    "        mergeSort(righthalf)\n",
    "\n",
    "        i=0\n",
    "        j=0\n",
    "        k=0\n",
    "        while i<len(lefthalf) and j<len(righthalf):\n",
    "            if lefthalf[i]<righthalf[j]:\n",
    "                alist[k]=lefthalf[i]\n",
    "                i=i+1\n",
    "            else:\n",
    "                alist[k]=righthalf[j]\n",
    "                j=j+1\n",
    "            k=k+1\n",
    "\n",
    "        while i<len(lefthalf):\n",
    "            alist[k]=lefthalf[i]\n",
    "            i=i+1\n",
    "            k=k+1\n",
    "\n",
    "        while j<len(righthalf):\n",
    "            alist[k]=righthalf[j]\n",
    "            j=j+1\n",
    "            k=k+1\n",
    "    #print(\"Merging \",alist)\n",
    "       \n",
    "j = list(str(input()))\n",
    "s = list(str(input()))\n",
    "n_j = len(j)\n",
    "n_s = len(s)\n",
    "if n_j != n_s:\n",
    "    print('0')\n",
    "else:\n",
    "    mergeSort(j)\n",
    "    mergeSort(s)\n",
    "    #print(j)\n",
    "    #print(s)\n",
    "    t = 1\n",
    "    i = 0\n",
    "    while (t == 1) & (i < n_j):\n",
    "        if j[i] != s[i]:\n",
    "            t = 0\n",
    "        i += 1\n",
    "    print(t)"
   ]
  },
  {
   "cell_type": "code",
   "execution_count": 30,
   "metadata": {},
   "outputs": [],
   "source": [
    "#быстрая сортировка \n",
    "def qsort(A, n):\n",
    "    l = 0\n",
    "    r = n - 1\n",
    "    if (n < 2):\n",
    "        return\n",
    "    x = A[n//2]\n",
    "    while (l<r):\n",
    "        while(A[l]<x):\n",
    "            l +=1\n",
    "        while(A[r]>x):\n",
    "            r -=1\n",
    "        if (l<=r):\n",
    "            tmp = A[l]\n",
    "            A[l] = A[r]\n",
    "            A[r] = tmp\n",
    "            l +=1\n",
    "            r -=1\n",
    "            \n",
    "    qsort(A, r + 1)\n",
    "    \n",
    "    qsort(A[l:], n - l)"
   ]
  },
  {
   "cell_type": "code",
   "execution_count": 53,
   "metadata": {},
   "outputs": [
    {
     "name": "stdout",
     "output_type": "stream",
     "text": [
      "Splitting  [54, 26, 93, 17, 77, 31, 44, 55, 20]\n",
      "Splitting  [54, 26, 93, 17]\n",
      "Splitting  [54, 26]\n",
      "Splitting  [54]\n",
      "Merging  [54]\n",
      "Splitting  [26]\n",
      "Merging  [26]\n",
      "Merging  [26, 54]\n",
      "Splitting  [93, 17]\n",
      "Splitting  [93]\n",
      "Merging  [93]\n",
      "Splitting  [17]\n",
      "Merging  [17]\n",
      "Merging  [17, 93]\n",
      "Merging  [17, 26, 54, 93]\n",
      "Splitting  [77, 31, 44, 55, 20]\n",
      "Splitting  [77, 31]\n",
      "Splitting  [77]\n",
      "Merging  [77]\n",
      "Splitting  [31]\n",
      "Merging  [31]\n",
      "Merging  [31, 77]\n",
      "Splitting  [44, 55, 20]\n",
      "Splitting  [44]\n",
      "Merging  [44]\n",
      "Splitting  [55, 20]\n",
      "Splitting  [55]\n",
      "Merging  [55]\n",
      "Splitting  [20]\n",
      "Merging  [20]\n",
      "Merging  [20, 55]\n",
      "Merging  [20, 44, 55]\n",
      "Merging  [20, 31, 44, 55, 77]\n",
      "Merging  [17, 20, 26, 31, 44, 54, 55, 77, 93]\n",
      "[17, 20, 26, 31, 44, 54, 55, 77, 93]\n"
     ]
    }
   ],
   "source": [
    "# сортироовка слиянием\n",
    "\n",
    "def mergeSort(alist):\n",
    "    #print(\"Splitting \",alist)\n",
    "    if len(alist)>1:\n",
    "        mid = len(alist)//2\n",
    "        lefthalf = alist[:mid]\n",
    "        righthalf = alist[mid:]\n",
    "\n",
    "        mergeSort(lefthalf)\n",
    "        mergeSort(righthalf)\n",
    "\n",
    "        i=0\n",
    "        j=0\n",
    "        k=0\n",
    "        while i<len(lefthalf) and j<len(righthalf):\n",
    "            if lefthalf[i]<righthalf[j]:\n",
    "                alist[k]=lefthalf[i]\n",
    "                i=i+1\n",
    "            else:\n",
    "                alist[k]=righthalf[j]\n",
    "                j=j+1\n",
    "            k=k+1\n",
    "\n",
    "        while i<len(lefthalf):\n",
    "            alist[k]=lefthalf[i]\n",
    "            i=i+1\n",
    "            k=k+1\n",
    "\n",
    "        while j<len(righthalf):\n",
    "            alist[k]=righthalf[j]\n",
    "            j=j+1\n",
    "            k=k+1\n",
    "    #print(\"Merging \",alist)\n",
    "\n",
    "alist = [54,26,93,17,77,31,44,55,20]\n",
    "mergeSort(alist)\n",
    "print(alist)\n"
   ]
  },
  {
   "cell_type": "code",
   "execution_count": 61,
   "metadata": {},
   "outputs": [],
   "source": [
    "    #a =  list(str(input()))\n",
    "    #a = np.random.randint(low = 0, high = 10, size = 12)\n",
    "    #qsort(a, 4)"
   ]
  },
  {
   "cell_type": "code",
   "execution_count": 96,
   "metadata": {},
   "outputs": [
    {
     "name": "stdout",
     "output_type": "stream",
     "text": [
      "3\n",
      "1 2 3 4\n"
     ]
    },
    {
     "ename": "TypeError",
     "evalue": "list() takes at most 1 argument (2 given)",
     "output_type": "error",
     "traceback": [
      "\u001b[0;31m---------------------------------------------------------------------------\u001b[0m",
      "\u001b[0;31mTypeError\u001b[0m                                 Traceback (most recent call last)",
      "\u001b[0;32m<ipython-input-96-c94acb5dd923>\u001b[0m in \u001b[0;36m<module>\u001b[0;34m()\u001b[0m\n\u001b[1;32m      5\u001b[0m \u001b[0mindex\u001b[0m \u001b[0;34m=\u001b[0m \u001b[0;34m[\u001b[0m\u001b[0;34m]\u001b[0m\u001b[0;34m\u001b[0m\u001b[0;34m\u001b[0m\u001b[0m\n\u001b[1;32m      6\u001b[0m \u001b[0;32mfor\u001b[0m \u001b[0mi\u001b[0m \u001b[0;32min\u001b[0m \u001b[0mrange\u001b[0m\u001b[0;34m(\u001b[0m\u001b[0mk\u001b[0m\u001b[0;34m)\u001b[0m\u001b[0;34m:\u001b[0m\u001b[0;34m\u001b[0m\u001b[0;34m\u001b[0m\u001b[0m\n\u001b[0;32m----> 7\u001b[0;31m     \u001b[0mmas\u001b[0m\u001b[0;34m.\u001b[0m\u001b[0mappend\u001b[0m\u001b[0;34m(\u001b[0m\u001b[0mlist\u001b[0m\u001b[0;34m(\u001b[0m\u001b[0mint\u001b[0m\u001b[0;34m,\u001b[0m \u001b[0minput\u001b[0m\u001b[0;34m(\u001b[0m\u001b[0;34m)\u001b[0m\u001b[0;34m.\u001b[0m\u001b[0msplit\u001b[0m\u001b[0;34m(\u001b[0m\u001b[0;34m' '\u001b[0m\u001b[0;34m)\u001b[0m\u001b[0;34m)\u001b[0m\u001b[0;34m)\u001b[0m\u001b[0;34m\u001b[0m\u001b[0;34m\u001b[0m\u001b[0m\n\u001b[0m\u001b[1;32m      8\u001b[0m     \u001b[0mindex\u001b[0m\u001b[0;34m.\u001b[0m\u001b[0mappend\u001b[0m\u001b[0;34m(\u001b[0m\u001b[0;36m0\u001b[0m\u001b[0;34m)\u001b[0m\u001b[0;34m\u001b[0m\u001b[0;34m\u001b[0m\u001b[0m\n\u001b[1;32m      9\u001b[0m \u001b[0mminimum\u001b[0m \u001b[0;34m=\u001b[0m\u001b[0;36m101\u001b[0m\u001b[0;34m\u001b[0m\u001b[0;34m\u001b[0m\u001b[0m\n",
      "\u001b[0;31mTypeError\u001b[0m: list() takes at most 1 argument (2 given)"
     ]
    }
   ],
   "source": [
    "# F. Слияние k сортированных списков\n",
    "\n",
    "k = int(input())\n",
    "mas = []\n",
    "index = []\n",
    "for i in range(k):\n",
    "    mas.append(list(map(int, input().split())))\n",
    "    index.append(0)\n",
    "minimum =101\n",
    "j = 0\n",
    "itog = []\n",
    "\n",
    "while (p!=k):\n",
    "    p = 0\n",
    "    for i in range(k):\n",
    "        if (mas[i][0] == 1):\n",
    "            p +=1\n",
    "        else:\n",
    "            if mas[i][1] < minimum:\n",
    "                minimum = mas[i][1]\n",
    "                j = i\n",
    "            itog.append(mas[1].pop(j))\n",
    "            mas[j][0] -= 1\n",
    "            "
   ]
  },
  {
   "cell_type": "code",
   "execution_count": 90,
   "metadata": {},
   "outputs": [
    {
     "data": {
      "text/plain": [
       "5"
      ]
     },
     "execution_count": 90,
     "metadata": {},
     "output_type": "execute_result"
    }
   ],
   "source": [
    "mas[1].pop(1)"
   ]
  },
  {
   "cell_type": "code",
   "execution_count": 91,
   "metadata": {},
   "outputs": [
    {
     "data": {
      "text/plain": [
       "[[1, 2, 3], [4, 6], [7, 8, 9]]"
      ]
     },
     "execution_count": 91,
     "metadata": {},
     "output_type": "execute_result"
    }
   ],
   "source": [
    "mas"
   ]
  },
  {
   "cell_type": "code",
   "execution_count": 88,
   "metadata": {},
   "outputs": [
    {
     "name": "stdout",
     "output_type": "stream",
     "text": [
      "3\n",
      "1 2 3\n",
      "4 5 6\n",
      "7 8 9\n"
     ]
    }
   ],
   "source": [
    "k = int(input())\n",
    "mas = []\n",
    "index = []\n",
    "for i in range(k):\n",
    "    mas.append(list(map(int, input().split())))\n",
    "    index.append(0)"
   ]
  },
  {
   "cell_type": "code",
   "execution_count": 95,
   "metadata": {},
   "outputs": [],
   "source": []
  },
  {
   "cell_type": "code",
   "execution_count": null,
   "metadata": {},
   "outputs": [],
   "source": []
  }
 ],
 "metadata": {
  "kernelspec": {
   "display_name": "Python 3",
   "language": "python",
   "name": "python3"
  },
  "language_info": {
   "codemirror_mode": {
    "name": "ipython",
    "version": 3
   },
   "file_extension": ".py",
   "mimetype": "text/x-python",
   "name": "python",
   "nbconvert_exporter": "python",
   "pygments_lexer": "ipython3",
   "version": "3.6.7"
  }
 },
 "nbformat": 4,
 "nbformat_minor": 2
}
